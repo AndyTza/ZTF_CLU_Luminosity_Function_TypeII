{
 "cells": [
  {
   "cell_type": "markdown",
   "metadata": {},
   "source": [
    "```Author: Anastasios Tzanidakis et al. 2021```\n",
    "\n",
    "Affiliation: California Institute of Technology"
   ]
  },
  {
   "cell_type": "code",
   "execution_count": 16,
   "metadata": {},
   "outputs": [],
   "source": [
    "import numpy as np\n",
    "import matplotlib.pyplot as plt\n",
    "from astropy.io import ascii\n",
    "from astropy import units as u\n",
    "import pomegranate as pom\n",
    "%matplotlib inline\n",
    "%config InlineBackend.figure_format = \"retina\"\n",
    "\n",
    "from matplotlib import rcParams\n",
    "rcParams[\"savefig.dpi\"] = 100\n",
    "rcParams[\"font.size\"] = 20"
   ]
  },
  {
   "cell_type": "code",
   "execution_count": 19,
   "metadata": {},
   "outputs": [
    {
     "data": {
      "text/plain": [
       "array([3783.65378779])"
      ]
     },
     "execution_count": 19,
     "metadata": {},
     "output_type": "execute_result"
    }
   ],
   "source": [
    "volume_weight(np.array([2]))"
   ]
  },
  {
   "cell_type": "code",
   "execution_count": 14,
   "metadata": {},
   "outputs": [],
   "source": [
    "def volume_weight(Mpeak, lim_mag=20):\n",
    "    \"\"\"Malmquist bias correction for the ZTF CLU volume, assiming a limiting magnitude ~20th mag.\n",
    "    \n",
    "    Input: \n",
    "    ------\n",
    "    Mpeak (np.array(dtype=float64)): Peak absolute magnitude of the transient\n",
    "    lim_mag (float64): limiting magnitude of the survey (i.e ZTF limting mag ~20)\n",
    "    \n",
    "    Output: \n",
    "    volume weight (np.array(dtype=float64)): 1/vmax weight for a given luminosity \n",
    "    \n",
    "    \"\"\"\n",
    "   \n",
    "    dist_mod = (lim_mag-Mpeak+5)/5\n",
    "   \n",
    "    d = (10**dist_mod * u.pc).to(u.Mpc)\n",
    "   \n",
    "    maxima = np.where(d.value>200)\n",
    "    (d.value)[maxima] = 200\n",
    "   \n",
    "    volume_sphere = (4/3) * np.pi * (d**3)\n",
    "    return (1/volume_sphere.value)\n",
    "\n",
    "\n",
    "def line(x, e1, e2):\n",
    "    return (x*e1 + e2)\n",
    "\n",
    "def clu_cat_comp(dist, slope=-0.15):\n",
    "    \"\"\"Weight applied from the CLU galaxy completness catalog. Adopted by BTS Fremlin\"\"\"\n",
    "    return ((line(dist, slope, 80))/100)"
   ]
  },
  {
   "cell_type": "code",
   "execution_count": 13,
   "metadata": {},
   "outputs": [],
   "source": [
    "# Unpack luminosity data \n",
    "\n",
    "# Call LF fits from data  --\n",
    "red_gold = ascii.read(\"/Users/andytzanidakis/Downloads/gold_r_sample_new.ascii\")\n",
    "red_bronze = ascii.read(\"/Users/andytzanidakis/Downloads/bronze_r_sample_new.ascii\")\n",
    "\n",
    "r_all = np.concatenate([red_gold, red_bronze])"
   ]
  },
  {
   "cell_type": "code",
   "execution_count": 5,
   "metadata": {},
   "outputs": [
    {
     "name": "stdout",
     "output_type": "stream",
     "text": [
      "/Users/andytzanidakis/Desktop/astro_research/researchprojects/LF_type_II/notebooks\r\n"
     ]
    }
   ],
   "source": [
    "!pwd"
   ]
  },
  {
   "cell_type": "code",
   "execution_count": null,
   "metadata": {},
   "outputs": [],
   "source": []
  }
 ],
 "metadata": {
  "kernelspec": {
   "display_name": "Python 3",
   "language": "python",
   "name": "python3"
  },
  "language_info": {
   "codemirror_mode": {
    "name": "ipython",
    "version": 3
   },
   "file_extension": ".py",
   "mimetype": "text/x-python",
   "name": "python",
   "nbconvert_exporter": "python",
   "pygments_lexer": "ipython3",
   "version": "3.6.12"
  }
 },
 "nbformat": 4,
 "nbformat_minor": 4
}
